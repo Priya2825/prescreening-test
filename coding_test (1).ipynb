{
  "nbformat": 4,
  "nbformat_minor": 0,
  "metadata": {
    "colab": {
      "provenance": []
    },
    "kernelspec": {
      "name": "python3",
      "display_name": "Python 3"
    },
    "language_info": {
      "name": "python"
    }
  },
  "cells": [
    {
      "cell_type": "markdown",
      "source": [
        "Assignment 1"
      ],
      "metadata": {
        "id": "oRKXGqZnTJui"
      }
    },
    {
      "cell_type": "code",
      "source": [
        "def reverse_words(text: str) -> str:\n",
        "    result = [] # storing the final output characters\n",
        "    word = []\n",
        "\n",
        "    for ch in text:\n",
        "        if ch.isalnum():\n",
        "            # If the character is part of a word we need to store it\n",
        "            word.append(ch)\n",
        "        else:\n",
        "            if word:\n",
        "                result.append(''.join(reversed(word)))\n",
        "                word = []  # Clear the current word for the next word\n",
        "           # Adding non-alphanumeric character to the result\n",
        "            result.append(ch)\n",
        "\n",
        "    if word:\n",
        "        result.append(''.join(reversed(word)))  # Reversing and adding the last word to the result\n",
        "\n",
        "    return ''.join(result)\n",
        "\n",
        "# Test cases\n",
        "if __name__ == '__main__':\n",
        "    test_str = \"String; 2be reversed...\"\n",
        "    assert reverse_words(test_str) == \"gnirtS; eb2 desrever...\"\n",
        "\n",
        "    assert reverse_words(\"Hello, My name is Priya\") == \"olleH, yM eman si ayirP\"\n",
        "    assert reverse_words(\"!!! ??? ,,, ...\") == \"!!! ??? ,,, ...\"\n",
        "    assert reverse_words(\"the   sky  is   blue\") == \"eht   yks  si   eulb\"\n",
        "\n",
        "    print(\"All tests passed!\")"
      ],
      "metadata": {
        "colab": {
          "base_uri": "https://localhost:8080/"
        },
        "id": "0GdKiaZMe2L3",
        "outputId": "910e314c-3578-4bcd-8e86-628249810eb1"
      },
      "execution_count": null,
      "outputs": [
        {
          "output_type": "stream",
          "name": "stdout",
          "text": [
            "All tests passed!\n"
          ]
        }
      ]
    },
    {
      "cell_type": "markdown",
      "source": [
        "Assignment 2"
      ],
      "metadata": {
        "id": "O5gjNfIWjxNh"
      }
    },
    {
      "cell_type": "code",
      "source": [
        "# Step 1: Setup environment and files\n",
        "import os\n",
        "\n",
        "# environment variables\n",
        "os.environ[\"BuildNum\"] = \"999\"\n",
        "os.environ[\"SourcePath\"] = \"/content/test_env\"\n",
        "\n",
        "# Create directory and files\n",
        "src_path = os.path.join(os.environ[\"SourcePath\"], \"develop\", \"global\", \"src\")\n",
        "os.makedirs(src_path, exist_ok=True)\n",
        "\n",
        "# Create SConstruct file\n",
        "with open(os.path.join(src_path, \"SConstruct\"), \"w\") as f:\n",
        "    f.write(\"\"\"\n",
        "config.version = Version(\n",
        "    major=15,\n",
        "    minor=0,\n",
        "    point=6,\n",
        "    patch=0\n",
        ")\n",
        "\"\"\")\n",
        "\n",
        "# Create VERSION file\n",
        "with open(os.path.join(src_path, \"VERSION\"), \"w\") as f:\n",
        "    f.write(\"ADLMSDK_VERSION_POINT=6\\n\")\n"
      ],
      "metadata": {
        "id": "bkvsTSxBxVsR"
      },
      "execution_count": null,
      "outputs": []
    },
    {
      "cell_type": "code",
      "source": [
        "import os\n",
        "import re\n",
        "\n",
        "def update_file(file_path, pattern, replacement):\n",
        "    # Updating the specified file by replacing the pattern, regex pattern with the replacement which is the string to replace the matched pattern.\n",
        "\n",
        "    # Check if the file exists\n",
        "    if not os.path.isfile(file_path):\n",
        "        raise FileNotFoundError(f\"Missing file:{file_path}\") #Raises error if the specified file does not exist.\n",
        "\n",
        "    # Reading file content\n",
        "    with open(file_path, 'r') as file:\n",
        "        content = file.read()\n",
        "\n",
        "    # Replace the pattern using regex\n",
        "    updated_content = re.sub(pattern, replacement, content)\n",
        "\n",
        "    # Write the updated content back to the file\n",
        "    with open(file_path, 'w') as file:\n",
        "        file.write(updated_content)\n",
        "\n",
        "def update_sconstruct(source_path, build_num):\n",
        "    # Updating build number in the SConstruct file using source_path which is the base path where the SConstruct file is located and a build_num where a new build number will be set\n",
        "    sconstruct_path = os.path.join(source_path, \"develop\", \"global\", \"src\", \"SConstruct\")\n",
        "    pattern = r\"point\\s*=\\s*\\d+\" # using regex pattern to find the point number\n",
        "    replacement = f\"point={build_num}\" # replacement string\n",
        "    update_file(sconstruct_path, pattern, replacement) # To call the update_file function\n",
        "\n",
        "def update_version(source_path, build_num):\n",
        "    # Update the build number in the VERSION file.\n",
        "    version_path = os.path.join(source_path, \"develop\", \"global\", \"src\", \"VERSION\")\n",
        "    pattern = r\"ADLMSDK_VERSION_POINT\\s*=\\s*\\d+\"\n",
        "    replacement = f\"ADLMSDK_VERSION_POINT={build_num}\"\n",
        "    update_file(version_path, pattern, replacement)\n",
        "\n",
        "def main():\n",
        "    source_path = os.getenv(\"SourcePath\")\n",
        "    build_num = os.getenv(\"BuildNum\")\n",
        "\n",
        "    if not (source_path and build_num):\n",
        "        raise EnvironmentError(\"Missing SourcePath or BuildNum in environment.\")\n",
        "\n",
        "    # Update the SConstruct and VERSION files with the new build number\n",
        "    update_sconstruct(source_path, build_num)\n",
        "    update_version(source_path, build_num)\n",
        "\n",
        "    # Define the paths for the updated files\n",
        "    SCONSTRUCT_FILE = os.path.join(source_path, \"develop\", \"global\", \"src\", \"SConstruct\")\n",
        "    VERSION_FILE = os.path.join(source_path, \"develop\", \"global\", \"src\", \"VERSION\")\n",
        "\n",
        "    # read & print the updated SConstruct file\n",
        "    with open(SCONSTRUCT_FILE, \"r\") as f:\n",
        "        print(\"\\nUpdated SConstruct:\")\n",
        "        print(f.read())\n",
        "\n",
        "    with open(VERSION_FILE, \"r\") as f:\n",
        "        print(\"\\nUpdated VERSION:\")\n",
        "        print(f.read())\n",
        "\n",
        "if __name__ == \"__main__\":\n",
        "    main()"
      ],
      "metadata": {
        "colab": {
          "base_uri": "https://localhost:8080/"
        },
        "id": "5F0FkFGEx1rM",
        "outputId": "96529baa-0489-4dbe-f2d0-73bb7315392e"
      },
      "execution_count": null,
      "outputs": [
        {
          "output_type": "stream",
          "name": "stdout",
          "text": [
            "\n",
            "Updated SConstruct:\n",
            "\n",
            "config.version = Version(\n",
            "    major=15,\n",
            "    minor=0,\n",
            "    point=999,\n",
            "    patch=0\n",
            ")\n",
            "\n",
            "\n",
            "Updated VERSION:\n",
            "ADLMSDK_VERSION_POINT=999\n",
            "\n"
          ]
        }
      ]
    }
  ]
}